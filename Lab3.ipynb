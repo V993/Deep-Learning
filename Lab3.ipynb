{
  "cells": [
    {
      "cell_type": "markdown",
      "metadata": {
        "colab_type": "text",
        "id": "view-in-github"
      },
      "source": [
        "<a href=\"https://colab.research.google.com/github/V993/Deep-Learning/blob/main/Lab3.ipynb\" target=\"_parent\"><img src=\"https://colab.research.google.com/assets/colab-badge.svg\" alt=\"Open In Colab\"/></a>"
      ]
    },
    {
      "cell_type": "code",
      "execution_count": null,
      "metadata": {},
      "outputs": [],
      "source": [
        "# Author : Leonardo Matone\n",
        "# Email  : Leonardo.Matone72@myhunter.cuny.edu"
      ]
    },
    {
      "cell_type": "code",
      "execution_count": null,
      "metadata": {
        "id": "bjf9O5LGqfcF"
      },
      "outputs": [],
      "source": [
        "import numpy as np\n",
        "from sklearn.datasets import load_iris\n",
        "from sklearn.model_selection import train_test_split"
      ]
    },
    {
      "cell_type": "code",
      "execution_count": null,
      "metadata": {
        "colab": {
          "base_uri": "https://localhost:8080/"
        },
        "id": "48W5y9fQrjq7",
        "outputId": "4612c8af-39c5-4022-f369-725873811be4"
      },
      "outputs": [
        {
          "data": {
            "text/plain": [
              "array(['setosa', 'versicolor', 'virginica'], dtype='<U10')"
            ]
          },
          "execution_count": 21,
          "metadata": {},
          "output_type": "execute_result"
        }
      ],
      "source": [
        "# load toy iris dataset\n",
        "iris = load_iris()\n",
        "\n",
        "iris.target_names"
      ]
    },
    {
      "cell_type": "code",
      "execution_count": null,
      "metadata": {
        "id": "_Ez3q6MErgVo"
      },
      "outputs": [],
      "source": [
        "\n",
        "# 20-80 test-train split respectively. Random seed 69. \n",
        "# binary encoding of target for virginica and not-viriginica\n",
        "X_train, X_test, y_train, y_test = train_test_split(iris.data, \n",
        "                                                    (iris.target == 2).astype(int), test_size=0.2, random_state=42)"
      ]
    },
    {
      "cell_type": "code",
      "execution_count": null,
      "metadata": {
        "colab": {
          "base_uri": "https://localhost:8080/"
        },
        "id": "chTy4KB6slaP",
        "outputId": "0df20366-d297-4a58-b457-a7c78e7fff48"
      },
      "outputs": [
        {
          "name": "stdout",
          "output_type": "stream",
          "text": [
            "(120, 4) (30, 4) (120,) (30,)\n"
          ]
        }
      ],
      "source": [
        "print(\n",
        "    X_train.shape,\n",
        "    X_test.shape,\n",
        "    y_train.shape,\n",
        "    y_test.shape\n",
        ")"
      ]
    },
    {
      "cell_type": "code",
      "execution_count": null,
      "metadata": {
        "colab": {
          "base_uri": "https://localhost:8080/"
        },
        "id": "xlVLv8K-s_0E",
        "outputId": "7d70a281-f140-4326-8639-376569f58821"
      },
      "outputs": [
        {
          "data": {
            "text/plain": [
              "Perceptron(eta0=1, random_state=42)"
            ]
          },
          "execution_count": 37,
          "metadata": {},
          "output_type": "execute_result"
        }
      ],
      "source": [
        "from sklearn.linear_model import Perceptron\n",
        "\n",
        "# set up perceptron\n",
        "perc30 = Perceptron( max_iter=1000, eta0=1, random_state=42)\n",
        "\n",
        "# train perceptron\n",
        "perc30.fit(X_train,y_train)"
      ]
    },
    {
      "cell_type": "code",
      "execution_count": null,
      "metadata": {
        "colab": {
          "base_uri": "https://localhost:8080/"
        },
        "id": "JEKil50KvcKA",
        "outputId": "cf4e5c6f-dc8a-4493-e4ae-255b9b0d2159"
      },
      "outputs": [
        {
          "data": {
            "text/plain": [
              "0.9"
            ]
          },
          "execution_count": 38,
          "metadata": {},
          "output_type": "execute_result"
        }
      ],
      "source": [
        "from sklearn.metrics import accuracy_score\n",
        "\n",
        "y_hat = perc30.predict(X_test)\n",
        "accuracy = accuracy_score(y_test,y_hat)\n",
        "\n",
        "print(accuracy)"
      ]
    }
  ],
  "metadata": {
    "colab": {
      "authorship_tag": "ABX9TyN2R/EXqeMFyzgzS/ytq1WQ",
      "collapsed_sections": [],
      "include_colab_link": true,
      "name": "Lab3.ipynb",
      "provenance": []
    },
    "kernelspec": {
      "display_name": "Python 3",
      "name": "python3"
    },
    "language_info": {
      "name": "python"
    }
  },
  "nbformat": 4,
  "nbformat_minor": 0
}
